git rm "Confidence Data 297 HW1.ipynb"
git commit -m "Delete Confidence Data 297 HW1.ipynb"
git push origin <main>
