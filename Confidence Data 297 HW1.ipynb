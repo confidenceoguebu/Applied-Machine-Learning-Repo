git rm confidence Data 297 HW1.ipynb
$ git commit -m "confidence Data 297 HW1.ipynb" 
